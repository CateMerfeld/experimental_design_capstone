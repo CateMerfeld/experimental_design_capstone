version https://git-lfs.github.com/spec/v1
oid sha256:9aa1719be497e8a9f13d3f6964a95ae050347ab00a6f846f7f62873088c95098
size 8403
