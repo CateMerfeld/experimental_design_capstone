version https://git-lfs.github.com/spec/v1
oid sha256:565d6fdd0e5d8259b1ed25d02fd41ded49c71e1e9b88ab6e46561a6d289bc51b
size 307917
