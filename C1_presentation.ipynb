version https://git-lfs.github.com/spec/v1
oid sha256:e4a5be97f805b81825a0a04438fd4f3a38ef1c89fd117aec6012bb06eb1b58e2
size 4022381
