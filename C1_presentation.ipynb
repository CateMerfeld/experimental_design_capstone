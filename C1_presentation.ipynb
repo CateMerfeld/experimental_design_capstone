version https://git-lfs.github.com/spec/v1
oid sha256:9d1efba2eb04af253ed2b4d276ce7144587c65bec401b4931e5481ca773ad0e3
size 133843
