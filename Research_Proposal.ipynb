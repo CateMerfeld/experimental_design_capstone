{
 "cells": [
  {
   "cell_type": "markdown",
   "metadata": {},
   "source": [
    "# Capstone 1: Experimental Design\n",
    "---"
   ]
  },
  {
   "cell_type": "markdown",
   "metadata": {},
   "source": [
    "## 1. Data:\n",
    "---\n",
    "A. <u>Description of the data:</u>\n",
    ">The dataset focuses on crime and incarceration in the United States. It contains information for all 50 states, stretching from 2001 to 2016. Included are incarceration rates, crime rates by type, and state population. My background is in criminology and restorative justice, and I've previously looked at crime statistics across countries, but never by state. It will be interesting to see what patterns exist, both between states and within the same state over time.\n",
    "\n",
    "B. [Link to the dataset](https://github.com/CateMerfeld/experimental_design_capstone/commit/2e37ec02c8e3b49cf450f8d0a2185cec7feec6d7?branch=2e37ec02c8e3b49cf450f8d0a2185cec7feec6d7&diff=unified)"
   ]
  },
  {
   "cell_type": "markdown",
   "metadata": {},
   "source": [
    "## 2. Research design:\n",
    "\n",
    "---\n",
    "A. <u>Research Question:</u> \n",
    ">The United States has the highest incarcerated population in the world, with about 720 prisoners per 100,000 residents, according to the BBC. In 2018 the Department of Eduction found that the U.S. spends over $80 billion annually on corrections. They also found that, over the last 30 years, corrections spending has grown three times faster than education spending.\n",
    "\n",
    ">Crime reduction has long been a foundation of the U.S. corrections system, and a justification for its human and financial consequences. This analysis will address the question of whether or not incarceration leads to reduced crime.\n",
    "\n",
    "B. <u>Hypotheses to be tested:</u>\n",
    ">Group a - states with increased incarceration/capita from 2001 to 2016 \n",
    "<br>Group b - states with decreased incarceration/capita from 2001 to 2016 \n",
    "\n",
    "> _H_<sub>0</sub> : The population mean of crimes/capita for states in group a will be equal to the population mean for the same statistic for states in group b. \n",
    "<br>_H_<sub>a</sub> : The population mean of crimes/capita for states in group a will not be equal to the population mean for the same statistic for states in group b. \n",
    "\n",
    "C. <u>Hypothesis testing:</u>\n",
    ">The data will be broken down into two groups based on states that had increased vs. decreased incarceration/capita over the 15 year period. Following normality testing, an appropriate statistical test will be run to determine whether or not there is a significant difference in the population means of the two groups. If, at this point, the null hypothesis can be rejected, a confidence interval will be calculated to determine the substantive value of the findings. \n"
   ]
  },
  {
   "cell_type": "markdown",
   "metadata": {},
   "source": [
    "## 3. Audience:\n",
    "---\n",
    "A. <u>Identifying audience:</u>\n",
    ">This research will be valuable for policy makers, elected officials, and those designing a political campaign. \n",
    "\n",
    "B. <u>Benefits for the audience from potential findings:</u>\n",
    ">These findings will help policy makers and elected officials make informed decisions when allocating money for corrections and when handling issues of criminal justice reform. Political hopefulls can use these findings to inform their campaign's approach to crime."
   ]
  }
 ],
 "metadata": {
  "kernelspec": {
   "display_name": "Python 3",
   "language": "python",
   "name": "python3"
  },
  "language_info": {
   "codemirror_mode": {
    "name": "ipython",
    "version": 3
   },
   "file_extension": ".py",
   "mimetype": "text/x-python",
   "name": "python",
   "nbconvert_exporter": "python",
   "pygments_lexer": "ipython3",
   "version": "3.8.3"
  }
 },
 "nbformat": 4,
 "nbformat_minor": 4
}
