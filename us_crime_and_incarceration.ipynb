version https://git-lfs.github.com/spec/v1
oid sha256:813f1aee2a48f43b8725d87ce847dc9c9503269e680ef8259fc0059939a47d50
size 4119076
