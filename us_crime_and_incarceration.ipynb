{
 "cells": [
  {
   "cell_type": "markdown",
   "metadata": {},
   "source": [
    "## 1. Introduction:\n",
    "**Here we want to talk about the subject matter domain, an overall take on what makes the topic interesting, and our research questions.** \n",
    "\n",
    "\n",
    "The United States has the highest incarcerated population in the world, with about 720 prisoners per 100,000 residents, according to the BBC. In 2018 the Department of Eduction found that the U.S. spends over $80 billion annually on corrections. They also found that, over the last 30 years, corrections spending has grown three times faster than education spending.\n",
    "\n",
    "Crime reduction has long been a foundation of the U.S. corrections system, and a justification for its human and financial consequences. This analysis will address the question of whether or not incarceration leads to reduced crime.\n"
   ]
  },
  {
   "cell_type": "markdown",
   "metadata": {},
   "source": [
    "## 2. Hypotheses: \n",
    "**Given our general research questions that are based on some interesting observation or outside trend, our next step is to formally state which hypotheses we want to test.88\n",
    "\n",
    "Group A - states with increased incarceration/capita from 2001 to 2016 \n",
    "<br>Group B - states with decreased incarceration/capita from 2001 to 2016 \n",
    "\n",
    "_H_<sub>0</sub> : There is no significant difference between the average crimes/capita for states in Group A vs states in Group B. \n",
    "<br>_H_<sub>a</sub> : There is a significant difference between the average crimes/capita for states in Group A vs states in Group B. \n"
   ]
  },
  {
   "cell_type": "markdown",
   "metadata": {},
   "source": [
    "## 3. Data:\n",
    "**Now that we have walked through the relevance of the topic, posed our research questions, and framed testable hypotheses based on those questions, it's time to introduce the dataset. Tell us about the data -- when and where was it collected? Perhaps include descriptive statistics or measures of distribution.**\n",
    "\n",
    "The dataset focuses on crime and incarceration in the United States. It contains information for all 50 states, stretching from 2001 to 2016. Included are incarceration rates, crime rates by type, and state population. My background is in criminology and restorative justice, and I've previously looked at crime statistics across countries, but never by state. It will be interesting to see what patterns exist, both between states and within the same state over time."
   ]
  },
  {
   "cell_type": "code",
   "execution_count": 196,
   "metadata": {},
   "outputs": [],
   "source": [
    "# Set up environment\n",
    "\n",
    "import pandas as pd\n",
    "import matplotlib.pyplot as plt\n",
    "%matplotlib inline\n",
    "import seaborn as sns\n",
    "import numpy as np\n",
    "import scipy.stats as stats"
   ]
  },
  {
   "cell_type": "code",
   "execution_count": 76,
   "metadata": {},
   "outputs": [
    {
     "name": "stdout",
     "output_type": "stream",
     "text": [
      "(816, 17)\n",
      "<class 'pandas.core.frame.DataFrame'>\n",
      "RangeIndex: 816 entries, 0 to 815\n",
      "Data columns (total 17 columns):\n",
      " #   Column                  Non-Null Count  Dtype  \n",
      "---  ------                  --------------  -----  \n",
      " 0   jurisdiction            816 non-null    object \n",
      " 1   includes_jails          816 non-null    bool   \n",
      " 2   year                    816 non-null    int64  \n",
      " 3   prisoner_count          816 non-null    int64  \n",
      " 4   crime_reporting_change  799 non-null    object \n",
      " 5   crimes_estimated        799 non-null    object \n",
      " 6   state_population        799 non-null    float64\n",
      " 7   violent_crime_total     799 non-null    float64\n",
      " 8   murder_manslaughter     799 non-null    float64\n",
      " 9   rape_legacy             749 non-null    float64\n",
      " 10  rape_revised            199 non-null    float64\n",
      " 11  robbery                 799 non-null    float64\n",
      " 12  agg_assault             799 non-null    float64\n",
      " 13  property_crime_total    799 non-null    float64\n",
      " 14  burglary                799 non-null    float64\n",
      " 15  larceny                 799 non-null    float64\n",
      " 16  vehicle_theft           799 non-null    float64\n",
      "dtypes: bool(1), float64(11), int64(2), object(3)\n",
      "memory usage: 102.9+ KB\n"
     ]
    },
    {
     "data": {
      "text/html": [
       "<div>\n",
       "<style scoped>\n",
       "    .dataframe tbody tr th:only-of-type {\n",
       "        vertical-align: middle;\n",
       "    }\n",
       "\n",
       "    .dataframe tbody tr th {\n",
       "        vertical-align: top;\n",
       "    }\n",
       "\n",
       "    .dataframe thead th {\n",
       "        text-align: right;\n",
       "    }\n",
       "</style>\n",
       "<table border=\"1\" class=\"dataframe\">\n",
       "  <thead>\n",
       "    <tr style=\"text-align: right;\">\n",
       "      <th></th>\n",
       "      <th>jurisdiction</th>\n",
       "      <th>includes_jails</th>\n",
       "      <th>year</th>\n",
       "      <th>prisoner_count</th>\n",
       "      <th>crime_reporting_change</th>\n",
       "      <th>crimes_estimated</th>\n",
       "      <th>state_population</th>\n",
       "      <th>violent_crime_total</th>\n",
       "      <th>murder_manslaughter</th>\n",
       "      <th>rape_legacy</th>\n",
       "      <th>rape_revised</th>\n",
       "      <th>robbery</th>\n",
       "      <th>agg_assault</th>\n",
       "      <th>property_crime_total</th>\n",
       "      <th>burglary</th>\n",
       "      <th>larceny</th>\n",
       "      <th>vehicle_theft</th>\n",
       "    </tr>\n",
       "  </thead>\n",
       "  <tbody>\n",
       "    <tr>\n",
       "      <th>0</th>\n",
       "      <td>FEDERAL</td>\n",
       "      <td>False</td>\n",
       "      <td>2001</td>\n",
       "      <td>149852</td>\n",
       "      <td>NaN</td>\n",
       "      <td>NaN</td>\n",
       "      <td>NaN</td>\n",
       "      <td>NaN</td>\n",
       "      <td>NaN</td>\n",
       "      <td>NaN</td>\n",
       "      <td>NaN</td>\n",
       "      <td>NaN</td>\n",
       "      <td>NaN</td>\n",
       "      <td>NaN</td>\n",
       "      <td>NaN</td>\n",
       "      <td>NaN</td>\n",
       "      <td>NaN</td>\n",
       "    </tr>\n",
       "    <tr>\n",
       "      <th>1</th>\n",
       "      <td>ALABAMA</td>\n",
       "      <td>False</td>\n",
       "      <td>2001</td>\n",
       "      <td>24741</td>\n",
       "      <td>False</td>\n",
       "      <td>False</td>\n",
       "      <td>4468912.0</td>\n",
       "      <td>19582.0</td>\n",
       "      <td>379.0</td>\n",
       "      <td>1369.0</td>\n",
       "      <td>NaN</td>\n",
       "      <td>5584.0</td>\n",
       "      <td>12250.0</td>\n",
       "      <td>173253.0</td>\n",
       "      <td>40642.0</td>\n",
       "      <td>119992.0</td>\n",
       "      <td>12619.0</td>\n",
       "    </tr>\n",
       "    <tr>\n",
       "      <th>2</th>\n",
       "      <td>ALASKA</td>\n",
       "      <td>True</td>\n",
       "      <td>2001</td>\n",
       "      <td>4570</td>\n",
       "      <td>False</td>\n",
       "      <td>False</td>\n",
       "      <td>633630.0</td>\n",
       "      <td>3735.0</td>\n",
       "      <td>39.0</td>\n",
       "      <td>501.0</td>\n",
       "      <td>NaN</td>\n",
       "      <td>514.0</td>\n",
       "      <td>2681.0</td>\n",
       "      <td>23160.0</td>\n",
       "      <td>3847.0</td>\n",
       "      <td>16695.0</td>\n",
       "      <td>2618.0</td>\n",
       "    </tr>\n",
       "    <tr>\n",
       "      <th>3</th>\n",
       "      <td>ARIZONA</td>\n",
       "      <td>False</td>\n",
       "      <td>2001</td>\n",
       "      <td>27710</td>\n",
       "      <td>False</td>\n",
       "      <td>False</td>\n",
       "      <td>5306966.0</td>\n",
       "      <td>28675.0</td>\n",
       "      <td>400.0</td>\n",
       "      <td>1518.0</td>\n",
       "      <td>NaN</td>\n",
       "      <td>8868.0</td>\n",
       "      <td>17889.0</td>\n",
       "      <td>293874.0</td>\n",
       "      <td>54821.0</td>\n",
       "      <td>186850.0</td>\n",
       "      <td>52203.0</td>\n",
       "    </tr>\n",
       "    <tr>\n",
       "      <th>4</th>\n",
       "      <td>ARKANSAS</td>\n",
       "      <td>False</td>\n",
       "      <td>2001</td>\n",
       "      <td>11489</td>\n",
       "      <td>False</td>\n",
       "      <td>False</td>\n",
       "      <td>2694698.0</td>\n",
       "      <td>12190.0</td>\n",
       "      <td>148.0</td>\n",
       "      <td>892.0</td>\n",
       "      <td>NaN</td>\n",
       "      <td>2181.0</td>\n",
       "      <td>8969.0</td>\n",
       "      <td>99106.0</td>\n",
       "      <td>22196.0</td>\n",
       "      <td>69590.0</td>\n",
       "      <td>7320.0</td>\n",
       "    </tr>\n",
       "  </tbody>\n",
       "</table>\n",
       "</div>"
      ],
      "text/plain": [
       "  jurisdiction  includes_jails  year  prisoner_count crime_reporting_change  \\\n",
       "0      FEDERAL           False  2001          149852                    NaN   \n",
       "1      ALABAMA           False  2001           24741                  False   \n",
       "2       ALASKA            True  2001            4570                  False   \n",
       "3      ARIZONA           False  2001           27710                  False   \n",
       "4     ARKANSAS           False  2001           11489                  False   \n",
       "\n",
       "  crimes_estimated  state_population  violent_crime_total  \\\n",
       "0              NaN               NaN                  NaN   \n",
       "1            False         4468912.0              19582.0   \n",
       "2            False          633630.0               3735.0   \n",
       "3            False         5306966.0              28675.0   \n",
       "4            False         2694698.0              12190.0   \n",
       "\n",
       "   murder_manslaughter  rape_legacy  rape_revised  robbery  agg_assault  \\\n",
       "0                  NaN          NaN           NaN      NaN          NaN   \n",
       "1                379.0       1369.0           NaN   5584.0      12250.0   \n",
       "2                 39.0        501.0           NaN    514.0       2681.0   \n",
       "3                400.0       1518.0           NaN   8868.0      17889.0   \n",
       "4                148.0        892.0           NaN   2181.0       8969.0   \n",
       "\n",
       "   property_crime_total  burglary   larceny  vehicle_theft  \n",
       "0                   NaN       NaN       NaN            NaN  \n",
       "1              173253.0   40642.0  119992.0        12619.0  \n",
       "2               23160.0    3847.0   16695.0         2618.0  \n",
       "3              293874.0   54821.0  186850.0        52203.0  \n",
       "4               99106.0   22196.0   69590.0         7320.0  "
      ]
     },
     "execution_count": 76,
     "metadata": {},
     "output_type": "execute_result"
    }
   ],
   "source": [
    "data = pd.read_csv(r'C:\\Users\\catem\\data-science-projects\\capstones\\experimental_design\\crime_and_incarceration_by_state.csv')\n",
    "\n",
    "\n",
    "# Convert column headers to lowercase for ease of coding\n",
    "data.columns = data.columns.str.lower()\n",
    "\n",
    "\n",
    "# Get basic overview of the data\n",
    "print(data.shape)\n",
    "\n",
    "data.info()\n",
    "data.head()\n"
   ]
  },
  {
   "cell_type": "markdown",
   "metadata": {},
   "source": [
    "## 4. Methods:\n",
    "**Explain the steps needed to test the hypotheses. This includes any data wrangling, tests, and visualizations that you will need to definitively reject or fail to reject your null hypotheses.**"
   ]
  },
  {
   "cell_type": "markdown",
   "metadata": {},
   "source": [
    "**Data wrangling:**\n",
    "\n",
    "Removing entries for states who include jails in their prisoner count. Also removing entries for federal prisoners, as that data will not be used while comparing states."
   ]
  },
  {
   "cell_type": "code",
   "execution_count": 77,
   "metadata": {
    "scrolled": true
   },
   "outputs": [
    {
     "name": "stdout",
     "output_type": "stream",
     "text": [
      "96\n"
     ]
    }
   ],
   "source": [
    "print(data.loc[data.includes_jails, 'includes_jails'].count())\n",
    "data = data.loc[data.includes_jails == False]\n",
    "data = data.loc[data.jurisdiction != 'FEDERAL']"
   ]
  },
  {
   "cell_type": "markdown",
   "metadata": {},
   "source": [
    "Adding columns for percent of the state population incarcerated total crime and crime per capita per state year."
   ]
  },
  {
   "cell_type": "code",
   "execution_count": 166,
   "metadata": {},
   "outputs": [
    {
     "data": {
      "text/html": [
       "<div>\n",
       "<style scoped>\n",
       "    .dataframe tbody tr th:only-of-type {\n",
       "        vertical-align: middle;\n",
       "    }\n",
       "\n",
       "    .dataframe tbody tr th {\n",
       "        vertical-align: top;\n",
       "    }\n",
       "\n",
       "    .dataframe thead th {\n",
       "        text-align: right;\n",
       "    }\n",
       "</style>\n",
       "<table border=\"1\" class=\"dataframe\">\n",
       "  <thead>\n",
       "    <tr style=\"text-align: right;\">\n",
       "      <th></th>\n",
       "      <th>jurisdiction</th>\n",
       "      <th>includes_jails</th>\n",
       "      <th>year</th>\n",
       "      <th>prisoner_count</th>\n",
       "      <th>crime_reporting_change</th>\n",
       "      <th>crimes_estimated</th>\n",
       "      <th>state_population</th>\n",
       "      <th>violent_crime_total</th>\n",
       "      <th>murder_manslaughter</th>\n",
       "      <th>rape_legacy</th>\n",
       "      <th>rape_revised</th>\n",
       "      <th>robbery</th>\n",
       "      <th>agg_assault</th>\n",
       "      <th>property_crime_total</th>\n",
       "      <th>burglary</th>\n",
       "      <th>larceny</th>\n",
       "      <th>vehicle_theft</th>\n",
       "      <th>perc_incar</th>\n",
       "      <th>total_crime</th>\n",
       "      <th>cri_per_cap</th>\n",
       "    </tr>\n",
       "  </thead>\n",
       "  <tbody>\n",
       "    <tr>\n",
       "      <th>1</th>\n",
       "      <td>ALABAMA</td>\n",
       "      <td>False</td>\n",
       "      <td>2001</td>\n",
       "      <td>24741</td>\n",
       "      <td>False</td>\n",
       "      <td>False</td>\n",
       "      <td>4468912.0</td>\n",
       "      <td>19582.0</td>\n",
       "      <td>379.0</td>\n",
       "      <td>1369.0</td>\n",
       "      <td>NaN</td>\n",
       "      <td>5584.0</td>\n",
       "      <td>12250.0</td>\n",
       "      <td>173253.0</td>\n",
       "      <td>40642.0</td>\n",
       "      <td>119992.0</td>\n",
       "      <td>12619.0</td>\n",
       "      <td>0.553625</td>\n",
       "      <td>192835.0</td>\n",
       "      <td>0.043150</td>\n",
       "    </tr>\n",
       "    <tr>\n",
       "      <th>3</th>\n",
       "      <td>ARIZONA</td>\n",
       "      <td>False</td>\n",
       "      <td>2001</td>\n",
       "      <td>27710</td>\n",
       "      <td>False</td>\n",
       "      <td>False</td>\n",
       "      <td>5306966.0</td>\n",
       "      <td>28675.0</td>\n",
       "      <td>400.0</td>\n",
       "      <td>1518.0</td>\n",
       "      <td>NaN</td>\n",
       "      <td>8868.0</td>\n",
       "      <td>17889.0</td>\n",
       "      <td>293874.0</td>\n",
       "      <td>54821.0</td>\n",
       "      <td>186850.0</td>\n",
       "      <td>52203.0</td>\n",
       "      <td>0.522144</td>\n",
       "      <td>322549.0</td>\n",
       "      <td>0.060778</td>\n",
       "    </tr>\n",
       "    <tr>\n",
       "      <th>4</th>\n",
       "      <td>ARKANSAS</td>\n",
       "      <td>False</td>\n",
       "      <td>2001</td>\n",
       "      <td>11489</td>\n",
       "      <td>False</td>\n",
       "      <td>False</td>\n",
       "      <td>2694698.0</td>\n",
       "      <td>12190.0</td>\n",
       "      <td>148.0</td>\n",
       "      <td>892.0</td>\n",
       "      <td>NaN</td>\n",
       "      <td>2181.0</td>\n",
       "      <td>8969.0</td>\n",
       "      <td>99106.0</td>\n",
       "      <td>22196.0</td>\n",
       "      <td>69590.0</td>\n",
       "      <td>7320.0</td>\n",
       "      <td>0.426356</td>\n",
       "      <td>111296.0</td>\n",
       "      <td>0.041302</td>\n",
       "    </tr>\n",
       "    <tr>\n",
       "      <th>5</th>\n",
       "      <td>CALIFORNIA</td>\n",
       "      <td>False</td>\n",
       "      <td>2001</td>\n",
       "      <td>157142</td>\n",
       "      <td>False</td>\n",
       "      <td>False</td>\n",
       "      <td>34600463.0</td>\n",
       "      <td>212867.0</td>\n",
       "      <td>2206.0</td>\n",
       "      <td>9960.0</td>\n",
       "      <td>NaN</td>\n",
       "      <td>64614.0</td>\n",
       "      <td>136087.0</td>\n",
       "      <td>1134189.0</td>\n",
       "      <td>232273.0</td>\n",
       "      <td>697739.0</td>\n",
       "      <td>204177.0</td>\n",
       "      <td>0.454162</td>\n",
       "      <td>1347056.0</td>\n",
       "      <td>0.038932</td>\n",
       "    </tr>\n",
       "    <tr>\n",
       "      <th>6</th>\n",
       "      <td>COLORADO</td>\n",
       "      <td>False</td>\n",
       "      <td>2001</td>\n",
       "      <td>17278</td>\n",
       "      <td>False</td>\n",
       "      <td>False</td>\n",
       "      <td>4430989.0</td>\n",
       "      <td>15492.0</td>\n",
       "      <td>158.0</td>\n",
       "      <td>1930.0</td>\n",
       "      <td>NaN</td>\n",
       "      <td>3555.0</td>\n",
       "      <td>9849.0</td>\n",
       "      <td>170887.0</td>\n",
       "      <td>28533.0</td>\n",
       "      <td>121360.0</td>\n",
       "      <td>20994.0</td>\n",
       "      <td>0.389936</td>\n",
       "      <td>186379.0</td>\n",
       "      <td>0.042063</td>\n",
       "    </tr>\n",
       "  </tbody>\n",
       "</table>\n",
       "</div>"
      ],
      "text/plain": [
       "  jurisdiction  includes_jails  year  prisoner_count crime_reporting_change  \\\n",
       "1      ALABAMA           False  2001           24741                  False   \n",
       "3      ARIZONA           False  2001           27710                  False   \n",
       "4     ARKANSAS           False  2001           11489                  False   \n",
       "5   CALIFORNIA           False  2001          157142                  False   \n",
       "6     COLORADO           False  2001           17278                  False   \n",
       "\n",
       "  crimes_estimated  state_population  violent_crime_total  \\\n",
       "1            False         4468912.0              19582.0   \n",
       "3            False         5306966.0              28675.0   \n",
       "4            False         2694698.0              12190.0   \n",
       "5            False        34600463.0             212867.0   \n",
       "6            False         4430989.0              15492.0   \n",
       "\n",
       "   murder_manslaughter  rape_legacy  rape_revised  robbery  agg_assault  \\\n",
       "1                379.0       1369.0           NaN   5584.0      12250.0   \n",
       "3                400.0       1518.0           NaN   8868.0      17889.0   \n",
       "4                148.0        892.0           NaN   2181.0       8969.0   \n",
       "5               2206.0       9960.0           NaN  64614.0     136087.0   \n",
       "6                158.0       1930.0           NaN   3555.0       9849.0   \n",
       "\n",
       "   property_crime_total  burglary   larceny  vehicle_theft  perc_incar  \\\n",
       "1              173253.0   40642.0  119992.0        12619.0    0.553625   \n",
       "3              293874.0   54821.0  186850.0        52203.0    0.522144   \n",
       "4               99106.0   22196.0   69590.0         7320.0    0.426356   \n",
       "5             1134189.0  232273.0  697739.0       204177.0    0.454162   \n",
       "6              170887.0   28533.0  121360.0        20994.0    0.389936   \n",
       "\n",
       "   total_crime  cri_per_cap  \n",
       "1     192835.0     0.043150  \n",
       "3     322549.0     0.060778  \n",
       "4     111296.0     0.041302  \n",
       "5    1347056.0     0.038932  \n",
       "6     186379.0     0.042063  "
      ]
     },
     "execution_count": 166,
     "metadata": {},
     "output_type": "execute_result"
    }
   ],
   "source": [
    "data['perc_incar'] = (data['prisoner_count'] / data['state_population']) * 100\n",
    "data['total_crime'] = data['violent_crime_total'] + data['property_crime_total']\n",
    "data['cri_per_cap'] = data['total_crime'] / data['state_population']\n",
    "data.head()"
   ]
  },
  {
   "cell_type": "markdown",
   "metadata": {},
   "source": [
    "Dropping rows with null values for state population."
   ]
  },
  {
   "cell_type": "code",
   "execution_count": 127,
   "metadata": {},
   "outputs": [
    {
     "name": "stdout",
     "output_type": "stream",
     "text": [
      "jurisdiction                0\n",
      "includes_jails              0\n",
      "year                        0\n",
      "prisoner_count              0\n",
      "crime_reporting_change      0\n",
      "crimes_estimated            0\n",
      "state_population            0\n",
      "violent_crime_total         0\n",
      "murder_manslaughter         0\n",
      "rape_legacy                44\n",
      "rape_revised              528\n",
      "robbery                     0\n",
      "agg_assault                 0\n",
      "property_crime_total        0\n",
      "burglary                    0\n",
      "larceny                     0\n",
      "vehicle_theft               0\n",
      "perc_incar                  0\n",
      "total_crime                 0\n",
      "dtype: int64\n"
     ]
    }
   ],
   "source": [
    "print(data.isnull().sum())\n",
    "data.dropna(subset=['state_population'], inplace=True)"
   ]
  },
  {
   "cell_type": "markdown",
   "metadata": {},
   "source": [
    "Breaking the data down into two groups based on states that had increased vs. decreased incarceration/capita over the 15 year period. Excluding results for changes smaller than .01 to account for small annual fluctuations that are likely not attributed to policy"
   ]
  },
  {
   "cell_type": "code",
   "execution_count": 186,
   "metadata": {
    "scrolled": false
   },
   "outputs": [
    {
     "data": {
      "text/html": [
       "<div>\n",
       "<style scoped>\n",
       "    .dataframe tbody tr th:only-of-type {\n",
       "        vertical-align: middle;\n",
       "    }\n",
       "\n",
       "    .dataframe tbody tr th {\n",
       "        vertical-align: top;\n",
       "    }\n",
       "\n",
       "    .dataframe thead th {\n",
       "        text-align: right;\n",
       "    }\n",
       "</style>\n",
       "<table border=\"1\" class=\"dataframe\">\n",
       "  <thead>\n",
       "    <tr style=\"text-align: right;\">\n",
       "      <th></th>\n",
       "      <th>diff_incar</th>\n",
       "      <th>group</th>\n",
       "    </tr>\n",
       "  </thead>\n",
       "  <tbody>\n",
       "    <tr>\n",
       "      <th>0</th>\n",
       "      <td>-0.065099</td>\n",
       "      <td>B</td>\n",
       "    </tr>\n",
       "    <tr>\n",
       "      <th>1</th>\n",
       "      <td>0.089380</td>\n",
       "      <td>A</td>\n",
       "    </tr>\n",
       "    <tr>\n",
       "      <th>2</th>\n",
       "      <td>0.103489</td>\n",
       "      <td>A</td>\n",
       "    </tr>\n",
       "    <tr>\n",
       "      <th>3</th>\n",
       "      <td>-0.124829</td>\n",
       "      <td>B</td>\n",
       "    </tr>\n",
       "    <tr>\n",
       "      <th>4</th>\n",
       "      <td>-0.037573</td>\n",
       "      <td>B</td>\n",
       "    </tr>\n",
       "  </tbody>\n",
       "</table>\n",
       "</div>"
      ],
      "text/plain": [
       "   diff_incar group\n",
       "0   -0.065099     B\n",
       "1    0.089380     A\n",
       "2    0.103489     A\n",
       "3   -0.124829     B\n",
       "4   -0.037573     B"
      ]
     },
     "execution_count": 186,
     "metadata": {},
     "output_type": "execute_result"
    }
   ],
   "source": [
    "# create a dataframe for each of the years we'll be looking at\n",
    "first_year = data.loc[data.year == 2001].reset_index()\n",
    "last_year = data.loc[data.year == 2016].reset_index()\n",
    "\n",
    "# set up new dataframe for differences\n",
    "diffs = pd.DataFrame(columns=['diff_incar'])\n",
    "# create column with differences for percent incarcerated\n",
    "diffs['diff_incar'] = last_year['perc_incar'] - first_year['perc_incar']\n",
    "\n",
    "# set up a list to hold results\n",
    "groups = []\n",
    "\n",
    "# iterate through diff_incar\n",
    "for i in differences['diff_incar']:\n",
    "    \n",
    "    # append all significant positive changes to group as As\n",
    "    if i > .01:\n",
    "        group = 'A'\n",
    "        groups.append(group)\n",
    "    \n",
    "    # append all sig neg changes as Bs\n",
    "    elif i < -.01:\n",
    "        group = 'B'\n",
    "        groups.append(group)\n",
    "    \n",
    "    # append all insignificant changes as Cs\n",
    "    else:\n",
    "        group ='C'\n",
    "        groups.append(group)\n",
    "\n",
    "# add column for group designations for each record\n",
    "diffs['group'] = groups\n",
    "diffs.head()"
   ]
  },
  {
   "cell_type": "markdown",
   "metadata": {},
   "source": [
    "Calculating differences in crimes/capita for each record"
   ]
  },
  {
   "cell_type": "code",
   "execution_count": 187,
   "metadata": {
    "scrolled": true
   },
   "outputs": [
    {
     "data": {
      "text/html": [
       "<div>\n",
       "<style scoped>\n",
       "    .dataframe tbody tr th:only-of-type {\n",
       "        vertical-align: middle;\n",
       "    }\n",
       "\n",
       "    .dataframe tbody tr th {\n",
       "        vertical-align: top;\n",
       "    }\n",
       "\n",
       "    .dataframe thead th {\n",
       "        text-align: right;\n",
       "    }\n",
       "</style>\n",
       "<table border=\"1\" class=\"dataframe\">\n",
       "  <thead>\n",
       "    <tr style=\"text-align: right;\">\n",
       "      <th></th>\n",
       "      <th>diff_incar</th>\n",
       "      <th>group</th>\n",
       "      <th>diff_crime</th>\n",
       "    </tr>\n",
       "  </thead>\n",
       "  <tbody>\n",
       "    <tr>\n",
       "      <th>0</th>\n",
       "      <td>-0.065099</td>\n",
       "      <td>B</td>\n",
       "      <td>-0.008352</td>\n",
       "    </tr>\n",
       "    <tr>\n",
       "      <th>1</th>\n",
       "      <td>0.089380</td>\n",
       "      <td>A</td>\n",
       "      <td>-0.026060</td>\n",
       "    </tr>\n",
       "    <tr>\n",
       "      <th>2</th>\n",
       "      <td>0.103489</td>\n",
       "      <td>A</td>\n",
       "      <td>-0.002933</td>\n",
       "    </tr>\n",
       "    <tr>\n",
       "      <th>3</th>\n",
       "      <td>-0.124829</td>\n",
       "      <td>B</td>\n",
       "      <td>-0.008983</td>\n",
       "    </tr>\n",
       "    <tr>\n",
       "      <th>4</th>\n",
       "      <td>-0.037573</td>\n",
       "      <td>B</td>\n",
       "      <td>-0.011109</td>\n",
       "    </tr>\n",
       "  </tbody>\n",
       "</table>\n",
       "</div>"
      ],
      "text/plain": [
       "   diff_incar group  diff_crime\n",
       "0   -0.065099     B   -0.008352\n",
       "1    0.089380     A   -0.026060\n",
       "2    0.103489     A   -0.002933\n",
       "3   -0.124829     B   -0.008983\n",
       "4   -0.037573     B   -0.011109"
      ]
     },
     "execution_count": 187,
     "metadata": {},
     "output_type": "execute_result"
    }
   ],
   "source": [
    "diffs['diff_crime'] = last_year['cri_per_cap'] - first_year['cri_per_cap']\n",
    "diffs.head()"
   ]
  },
  {
   "cell_type": "markdown",
   "metadata": {},
   "source": [
    "Creating a dataframe for each group"
   ]
  },
  {
   "cell_type": "code",
   "execution_count": 189,
   "metadata": {},
   "outputs": [],
   "source": [
    "incar_up = diffs.loc[diffs.group == 'A'].reset_index()\n",
    "incar_down = diffs.loc[diffs.group == 'B'].reset_index()"
   ]
  },
  {
   "cell_type": "markdown",
   "metadata": {},
   "source": [
    "Since we only have about 20 entries for each group, creating a sampling distribution to reduce the effect of outliers."
   ]
  },
  {
   "cell_type": "markdown",
   "metadata": {},
   "source": [
    "**Testing for normality: (And other assumptions for t-test)**\n",
    " Following normality testing, an appropriate statistical test will be run to determine whether or not there is a significant difference in the population means of the two groups. If, at this point, the null hypothesis can be rejected, a confidence interval will be calculated to determine the substantive value of the findings. "
   ]
  },
  {
   "cell_type": "code",
   "execution_count": 204,
   "metadata": {},
   "outputs": [
    {
     "data": {
      "image/png": "[encoded data removed]",
      "text/plain": [
       "<Figure size 432x288 with 1 Axes>"
      ]
     },
     "metadata": {
      "needs_background": "light"
     },
     "output_type": "display_data"
    }
   ],
   "source": [
    "plt.hist(incar_up['diff_crime'], alpha = .5)\n",
    "plt.hist(incar_down['diff_crime'], alpha=.5)\n",
    "\n",
    "plt.legend(['incar up', 'incar down'], loc='upper right')\n",
    "plt.show()"
   ]
  },
  {
   "cell_type": "markdown",
   "metadata": {},
   "source": [
    "Visual inspection of the histograms for the test variable suggests the distribution is not normal. Running tests on the variable to confirm distribution."
   ]
  },
  {
   "cell_type": "code",
   "execution_count": 205,
   "metadata": {
    "scrolled": true
   },
   "outputs": [
    {
     "name": "stdout",
     "output_type": "stream",
     "text": [
      "DescribeResult(nobs=22, minmax=(-0.026059728391556194, 0.0015214056256038014), mean=-0.01110529018523561, variance=4.948089310604641e-05, skewness=-0.18846750023594122, kurtosis=0.016781742517948395)\n",
      "DescribeResult(nobs=18, minmax=(-0.020562693270399564, -0.008352374224565064), mean=-0.013614005672832698, variance=1.3521953010714025e-05, skewness=-0.3846454924939584, kurtosis=-0.9948602307091345)\n",
      "ShapiroResult(statistic=0.9585549235343933, pvalue=0.46063241362571716)\n",
      "ShapiroResult(statistic=0.9505112767219543, pvalue=0.43309417366981506)\n"
     ]
    }
   ],
   "source": [
    "print(stats.describe(incar_up['diff_crime']))\n",
    "print(stats.describe(incar_down['diff_crime']))\n",
    "\n",
    "print(stats.shapiro(incar_up['diff_crime']))\n",
    "print(stats.shapiro(incar_down['diff_crime']))"
   ]
  },
  {
   "cell_type": "markdown",
   "metadata": {},
   "source": [
    "Even though the histogram does not look normal, the test results show we cannot reject the null hypothesis that the distribution is normal. \n",
    "\n",
    "Checking for similar variability by calculating the standard deviation for each group and comparing"
   ]
  },
  {
   "cell_type": "code",
   "execution_count": 206,
   "metadata": {},
   "outputs": [
    {
     "name": "stdout",
     "output_type": "stream",
     "text": [
      "0.0068725367660876216\n",
      "0.003573616291518676\n"
     ]
    }
   ],
   "source": [
    "print(np.std(incar_up['diff_crime']))\n",
    "print(np.std(incar_down['diff_crime']))"
   ]
  },
  {
   "cell_type": "markdown",
   "metadata": {},
   "source": [
    "The groups appear to have similar variations.\n",
    "\n",
    "Running a T-test on the groups."
   ]
  },
  {
   "cell_type": "code",
   "execution_count": 207,
   "metadata": {},
   "outputs": [
    {
     "data": {
      "text/plain": [
       "Ttest_indResult(statistic=1.3659499742469547, pvalue=0.1799849762152975)"
      ]
     },
     "execution_count": 207,
     "metadata": {},
     "output_type": "execute_result"
    }
   ],
   "source": [
    "stats.ttest_ind(incar_up['diff_crime'], incar_down['diff_crime'])"
   ]
  },
  {
   "cell_type": "markdown",
   "metadata": {},
   "source": [
    "Since the t-statistic of 1.37 is not &plusmn; 1.96, and the p-value is greater than .05, we cannot reject the null hypothesis that there is no significant difference between the average crimes/capita for states in Group A vs states in Group B."
   ]
  },
  {
   "cell_type": "markdown",
   "metadata": {},
   "source": [
    "## 5.\tResults:\n",
    "**Now, we can walk through the results of the methods. State here the results of your tests and whether these results mean that you reject or fail to reject the null. Also, include compelling tables or graphs to illustrate your findings.**"
   ]
  },
  {
   "cell_type": "markdown",
   "metadata": {},
   "source": [
    "## 6. Discussion & recommendations:\n",
    "\n",
    "**What insights can interested parties get from this research? What would you recommend as further research?**\n",
    "\n",
    "These findings will help policy makers and elected officials make informed decisions when allocating money for corrections and when handling issues of criminal justice reform. Political hopefulls can use these findings to inform their campaign's approach to crime."
   ]
  },
  {
   "cell_type": "code",
   "execution_count": null,
   "metadata": {},
   "outputs": [],
   "source": []
  },
  {
   "cell_type": "code",
   "execution_count": null,
   "metadata": {},
   "outputs": [],
   "source": []
  },
  {
   "cell_type": "code",
   "execution_count": null,
   "metadata": {},
   "outputs": [],
   "source": []
  },
  {
   "cell_type": "code",
   "execution_count": null,
   "metadata": {},
   "outputs": [],
   "source": []
  },
  {
   "cell_type": "code",
   "execution_count": null,
   "metadata": {},
   "outputs": [],
   "source": []
  },
  {
   "cell_type": "code",
   "execution_count": null,
   "metadata": {},
   "outputs": [],
   "source": []
  },
  {
   "cell_type": "code",
   "execution_count": null,
   "metadata": {},
   "outputs": [],
   "source": []
  },
  {
   "cell_type": "code",
   "execution_count": null,
   "metadata": {},
   "outputs": [],
   "source": []
  },
  {
   "cell_type": "code",
   "execution_count": null,
   "metadata": {},
   "outputs": [],
   "source": []
  },
  {
   "cell_type": "code",
   "execution_count": null,
   "metadata": {},
   "outputs": [],
   "source": []
  },
  {
   "cell_type": "code",
   "execution_count": null,
   "metadata": {},
   "outputs": [],
   "source": []
  },
  {
   "cell_type": "code",
   "execution_count": null,
   "metadata": {},
   "outputs": [],
   "source": []
  },
  {
   "cell_type": "code",
   "execution_count": null,
   "metadata": {},
   "outputs": [],
   "source": []
  },
  {
   "cell_type": "markdown",
   "metadata": {},
   "source": [
    "**Limitations of the study:**\n",
    "using only the first and last year to determine change in crime rate ignores any differences during the intervening years"
   ]
  },
  {
   "cell_type": "code",
   "execution_count": null,
   "metadata": {},
   "outputs": [],
   "source": []
  },
  {
   "cell_type": "code",
   "execution_count": null,
   "metadata": {},
   "outputs": [],
   "source": []
  },
  {
   "cell_type": "code",
   "execution_count": null,
   "metadata": {},
   "outputs": [],
   "source": []
  },
  {
   "cell_type": "code",
   "execution_count": 32,
   "metadata": {},
   "outputs": [],
   "source": [
    "prisoner_sorted = data.sort_values(by=['prisoner_count'], ascending=False).reset_index()\n",
    "# prisoner_sorted.head(30)"
   ]
  },
  {
   "cell_type": "markdown",
   "metadata": {},
   "source": [
    "California and Texas follow federal for the highest prisoner population most years. "
   ]
  },
  {
   "cell_type": "code",
   "execution_count": 66,
   "metadata": {
    "scrolled": true
   },
   "outputs": [],
   "source": [
    "# data.sort_values(by='state_population', ascending=False).reset_index().head()"
   ]
  },
  {
   "cell_type": "markdown",
   "metadata": {},
   "source": [
    "California and Texas are also the most populace states"
   ]
  },
  {
   "cell_type": "code",
   "execution_count": 39,
   "metadata": {
    "scrolled": true
   },
   "outputs": [],
   "source": [
    "#state_pris.sort_values(by='perc_incar', ascending=False).reset_index().head()"
   ]
  },
  {
   "cell_type": "markdown",
   "metadata": {},
   "source": [
    "Texas and Oklahoma lead the country most years for highest percentage of population incarcerated"
   ]
  },
  {
   "cell_type": "code",
   "execution_count": null,
   "metadata": {},
   "outputs": [],
   "source": [
    "state_pris.sort_values(by=['total_crime'], ascending=False).reset_index().head()"
   ]
  },
  {
   "cell_type": "markdown",
   "metadata": {},
   "source": [
    "California and Texas lead for total crime most years"
   ]
  },
  {
   "cell_type": "code",
   "execution_count": 65,
   "metadata": {
    "scrolled": true
   },
   "outputs": [],
   "source": [
    "# cali = data.loc[data['jurisdiction'] == 'CALIFORNIA']\n",
    "\n",
    "# cali.head(10)\n",
    "# cali.info()"
   ]
  },
  {
   "cell_type": "code",
   "execution_count": null,
   "metadata": {},
   "outputs": [],
   "source": [
    "# plt.plot(state_pris.loc[state_pris['jurisdiction'] == 'CALIFORNIA'].groupby)\n",
    "sns.lineplot('year', 'perc_incar', data=cali)"
   ]
  },
  {
   "cell_type": "markdown",
   "metadata": {},
   "source": [
    "California has a distinct drop in percent incarcerated around 2009"
   ]
  },
  {
   "cell_type": "code",
   "execution_count": null,
   "metadata": {
    "scrolled": false
   },
   "outputs": [],
   "source": [
    "sns.scatterplot(x='year', y='perc_incar', data=state_pris)"
   ]
  },
  {
   "cell_type": "code",
   "execution_count": null,
   "metadata": {},
   "outputs": [],
   "source": [
    "# perc_by_year = state_pris[['year', 'perc_incar', 'jurisdiction']]\n",
    "# pby_pivot = perc_by_year.pivot(index='year', columns='jurisdiction', values='perc_incar')\n",
    "# sns.kdeplot(data=pby_pivot)\n",
    "# # perc_by_year.head()\n",
    "# ##"
   ]
  },
  {
   "cell_type": "code",
   "execution_count": null,
   "metadata": {},
   "outputs": [],
   "source": [
    "# values = data[(data['prisoner_count', 'state_population'])]"
   ]
  },
  {
   "cell_type": "code",
   "execution_count": null,
   "metadata": {},
   "outputs": [],
   "source": [
    "pris_cust_by_state.head()\n",
    "ucr_by_state.head()"
   ]
  },
  {
   "cell_type": "code",
   "execution_count": null,
   "metadata": {
    "scrolled": true
   },
   "outputs": [],
   "source": [
    "# sns.scatterplot(x='year', y='prisoner_count', hue='jurisdiction', data=data)\n",
    "#plt.hist(data['prisoner_count'])\n",
    "# sns.scatterplot(x='year', y='violent_crime_total', data=data)\n",
    "#sns.scatterplot(x='year', y='property_crime_total', data=data)\n",
    "plt.hist(data['prisoner_count'])\n",
    "plt.show()"
   ]
  },
  {
   "cell_type": "code",
   "execution_count": null,
   "metadata": {},
   "outputs": [],
   "source": [
    "data['prisoner_count'].corr(data['violent_crime_total'])"
   ]
  },
  {
   "cell_type": "code",
   "execution_count": null,
   "metadata": {},
   "outputs": [],
   "source": [
    "# #state_groups = data.groupby(['jurisdiction']).agg({'violent_crime_total': ['mean'], 'prisoner_count': ['mean']})\n",
    "# print(state_groups.sort_values(by=state_groups['prisoner_count'], ascending=False))"
   ]
  },
  {
   "cell_type": "code",
   "execution_count": null,
   "metadata": {},
   "outputs": [],
   "source": [
    "# g = sns.PairGrid(diag_sharey=False)\n",
    "# g.map_lower(sns.kdeplot)\n",
    "# g.map_offdiag(plt.scatter, s=15)"
   ]
  },
  {
   "cell_type": "code",
   "execution_count": null,
   "metadata": {},
   "outputs": [],
   "source": [
    "states_yearly = data.pivot(index='year', columns='jurisdiction')"
   ]
  },
  {
   "cell_type": "code",
   "execution_count": null,
   "metadata": {},
   "outputs": [],
   "source": [
    "states_yearly.head()"
   ]
  }
 ],
 "metadata": {
  "kernelspec": {
   "display_name": "Python 3",
   "language": "python",
   "name": "python3"
  },
  "language_info": {
   "codemirror_mode": {
    "name": "ipython",
    "version": 3
   },
   "file_extension": ".py",
   "mimetype": "text/x-python",
   "name": "python",
   "nbconvert_exporter": "python",
   "pygments_lexer": "ipython3",
   "version": "3.8.3"
  }
 },
 "nbformat": 4,
 "nbformat_minor": 4
}
