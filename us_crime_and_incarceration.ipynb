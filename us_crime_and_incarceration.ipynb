{
 "cells": [
  {
   "cell_type": "markdown",
   "metadata": {},
   "source": [
    "## 1. Introduction:\n",
    "**Here we want to talk about the subject matter domain, an overall take on what makes the topic interesting, and our research questions.** \n",
    "\n",
    "\n",
    "The United States has the highest incarcerated population in the world, with about 720 prisoners per 100,000 residents, according to the BBC. In 2018 the Department of Eduction found that the U.S. spends over $80 billion annually on corrections. They also found that, over the last 30 years, corrections spending has grown three times faster than education spending.\n",
    "\n",
    "Crime reduction has long been a foundation of the U.S. corrections system, and a justification for its human and financial consequences. This analysis will address the question of whether or not incarceration leads to reduced crime.\n"
   ]
  },
  {
   "cell_type": "markdown",
   "metadata": {},
   "source": [
    "## 2. Hypotheses: \n",
    "**Given our general research questions that are based on some interesting observation or outside trend, our next step is to formally state which hypotheses we want to test.88\n",
    "\n",
    "Group A - states with increased incarceration/capita from 2001 to 2016 \n",
    "<br>Group B - states with decreased incarceration/capita from 2001 to 2016 \n",
    "\n",
    "_H_<sub>0</sub> : There is no significant difference between the average crimes/capita for states in Group A vs states in Group B. \n",
    "<br>_H_<sub>a</sub> : There is a significant difference between the average crimes/capita for states in Group A vs states in Group B. \n"
   ]
  },
  {
   "cell_type": "markdown",
   "metadata": {},
   "source": [
    "## 3. Data:\n",
    "**Now that we have walked through the relevance of the topic, posed our research questions, and framed testable hypotheses based on those questions, it's time to introduce the dataset. Tell us about the data -- when and where was it collected? Perhaps include descriptive statistics or measures of distribution.**\n",
    "\n",
    "The dataset focuses on crime and incarceration in the United States. It contains information for all 50 states, stretching from 2001 to 2016. Included are incarceration rates, crime rates by type, and state population. My background is in criminology and restorative justice, and I've previously looked at crime statistics across countries, but never by state. It will be interesting to see what patterns exist, both between states and within the same state over time."
   ]
  },
  {
   "cell_type": "markdown",
   "metadata": {},
   "source": [
    "**Include** calculations from first_yr, last_yr, from before calculating the annual difference. Should explain why I did it that way instead of looking at first year vs last year"
   ]
  },
  {
   "cell_type": "code",
   "execution_count": 1,
   "metadata": {},
   "outputs": [],
   "source": [
    "# Set up environment\n",
    "\n",
    "import math\n",
    "import pandas as pd\n",
    "import matplotlib.pyplot as plt\n",
    "%matplotlib inline\n",
    "import seaborn as sns\n",
    "import numpy as np\n",
    "import scipy.stats as stats"
   ]
  },
  {
   "cell_type": "code",
   "execution_count": 2,
   "metadata": {},
   "outputs": [
    {
     "name": "stdout",
     "output_type": "stream",
     "text": [
      "(816, 17)\n",
      "<class 'pandas.core.frame.DataFrame'>\n",
      "RangeIndex: 816 entries, 0 to 815\n",
      "Data columns (total 17 columns):\n",
      " #   Column                  Non-Null Count  Dtype  \n",
      "---  ------                  --------------  -----  \n",
      " 0   jurisdiction            816 non-null    object \n",
      " 1   includes_jails          816 non-null    bool   \n",
      " 2   year                    816 non-null    int64  \n",
      " 3   prisoner_count          816 non-null    int64  \n",
      " 4   crime_reporting_change  799 non-null    object \n",
      " 5   crimes_estimated        799 non-null    object \n",
      " 6   state_population        799 non-null    float64\n",
      " 7   violent_crime_total     799 non-null    float64\n",
      " 8   murder_manslaughter     799 non-null    float64\n",
      " 9   rape_legacy             749 non-null    float64\n",
      " 10  rape_revised            199 non-null    float64\n",
      " 11  robbery                 799 non-null    float64\n",
      " 12  agg_assault             799 non-null    float64\n",
      " 13  property_crime_total    799 non-null    float64\n",
      " 14  burglary                799 non-null    float64\n",
      " 15  larceny                 799 non-null    float64\n",
      " 16  vehicle_theft           799 non-null    float64\n",
      "dtypes: bool(1), float64(11), int64(2), object(3)\n",
      "memory usage: 102.9+ KB\n"
     ]
    },
    {
     "data": {
      "text/html": [
       "<div>\n",
       "<style scoped>\n",
       "    .dataframe tbody tr th:only-of-type {\n",
       "        vertical-align: middle;\n",
       "    }\n",
       "\n",
       "    .dataframe tbody tr th {\n",
       "        vertical-align: top;\n",
       "    }\n",
       "\n",
       "    .dataframe thead th {\n",
       "        text-align: right;\n",
       "    }\n",
       "</style>\n",
       "<table border=\"1\" class=\"dataframe\">\n",
       "  <thead>\n",
       "    <tr style=\"text-align: right;\">\n",
       "      <th></th>\n",
       "      <th>jurisdiction</th>\n",
       "      <th>includes_jails</th>\n",
       "      <th>year</th>\n",
       "      <th>prisoner_count</th>\n",
       "      <th>crime_reporting_change</th>\n",
       "      <th>crimes_estimated</th>\n",
       "      <th>state_population</th>\n",
       "      <th>violent_crime_total</th>\n",
       "      <th>murder_manslaughter</th>\n",
       "      <th>rape_legacy</th>\n",
       "      <th>rape_revised</th>\n",
       "      <th>robbery</th>\n",
       "      <th>agg_assault</th>\n",
       "      <th>property_crime_total</th>\n",
       "      <th>burglary</th>\n",
       "      <th>larceny</th>\n",
       "      <th>vehicle_theft</th>\n",
       "    </tr>\n",
       "  </thead>\n",
       "  <tbody>\n",
       "    <tr>\n",
       "      <th>0</th>\n",
       "      <td>FEDERAL</td>\n",
       "      <td>False</td>\n",
       "      <td>2001</td>\n",
       "      <td>149852</td>\n",
       "      <td>NaN</td>\n",
       "      <td>NaN</td>\n",
       "      <td>NaN</td>\n",
       "      <td>NaN</td>\n",
       "      <td>NaN</td>\n",
       "      <td>NaN</td>\n",
       "      <td>NaN</td>\n",
       "      <td>NaN</td>\n",
       "      <td>NaN</td>\n",
       "      <td>NaN</td>\n",
       "      <td>NaN</td>\n",
       "      <td>NaN</td>\n",
       "      <td>NaN</td>\n",
       "    </tr>\n",
       "    <tr>\n",
       "      <th>1</th>\n",
       "      <td>ALABAMA</td>\n",
       "      <td>False</td>\n",
       "      <td>2001</td>\n",
       "      <td>24741</td>\n",
       "      <td>False</td>\n",
       "      <td>False</td>\n",
       "      <td>4468912.0</td>\n",
       "      <td>19582.0</td>\n",
       "      <td>379.0</td>\n",
       "      <td>1369.0</td>\n",
       "      <td>NaN</td>\n",
       "      <td>5584.0</td>\n",
       "      <td>12250.0</td>\n",
       "      <td>173253.0</td>\n",
       "      <td>40642.0</td>\n",
       "      <td>119992.0</td>\n",
       "      <td>12619.0</td>\n",
       "    </tr>\n",
       "    <tr>\n",
       "      <th>2</th>\n",
       "      <td>ALASKA</td>\n",
       "      <td>True</td>\n",
       "      <td>2001</td>\n",
       "      <td>4570</td>\n",
       "      <td>False</td>\n",
       "      <td>False</td>\n",
       "      <td>633630.0</td>\n",
       "      <td>3735.0</td>\n",
       "      <td>39.0</td>\n",
       "      <td>501.0</td>\n",
       "      <td>NaN</td>\n",
       "      <td>514.0</td>\n",
       "      <td>2681.0</td>\n",
       "      <td>23160.0</td>\n",
       "      <td>3847.0</td>\n",
       "      <td>16695.0</td>\n",
       "      <td>2618.0</td>\n",
       "    </tr>\n",
       "    <tr>\n",
       "      <th>3</th>\n",
       "      <td>ARIZONA</td>\n",
       "      <td>False</td>\n",
       "      <td>2001</td>\n",
       "      <td>27710</td>\n",
       "      <td>False</td>\n",
       "      <td>False</td>\n",
       "      <td>5306966.0</td>\n",
       "      <td>28675.0</td>\n",
       "      <td>400.0</td>\n",
       "      <td>1518.0</td>\n",
       "      <td>NaN</td>\n",
       "      <td>8868.0</td>\n",
       "      <td>17889.0</td>\n",
       "      <td>293874.0</td>\n",
       "      <td>54821.0</td>\n",
       "      <td>186850.0</td>\n",
       "      <td>52203.0</td>\n",
       "    </tr>\n",
       "    <tr>\n",
       "      <th>4</th>\n",
       "      <td>ARKANSAS</td>\n",
       "      <td>False</td>\n",
       "      <td>2001</td>\n",
       "      <td>11489</td>\n",
       "      <td>False</td>\n",
       "      <td>False</td>\n",
       "      <td>2694698.0</td>\n",
       "      <td>12190.0</td>\n",
       "      <td>148.0</td>\n",
       "      <td>892.0</td>\n",
       "      <td>NaN</td>\n",
       "      <td>2181.0</td>\n",
       "      <td>8969.0</td>\n",
       "      <td>99106.0</td>\n",
       "      <td>22196.0</td>\n",
       "      <td>69590.0</td>\n",
       "      <td>7320.0</td>\n",
       "    </tr>\n",
       "  </tbody>\n",
       "</table>\n",
       "</div>"
      ],
      "text/plain": [
       "  jurisdiction  includes_jails  year  prisoner_count crime_reporting_change  \\\n",
       "0      FEDERAL           False  2001          149852                    NaN   \n",
       "1      ALABAMA           False  2001           24741                  False   \n",
       "2       ALASKA            True  2001            4570                  False   \n",
       "3      ARIZONA           False  2001           27710                  False   \n",
       "4     ARKANSAS           False  2001           11489                  False   \n",
       "\n",
       "  crimes_estimated  state_population  violent_crime_total  \\\n",
       "0              NaN               NaN                  NaN   \n",
       "1            False         4468912.0              19582.0   \n",
       "2            False          633630.0               3735.0   \n",
       "3            False         5306966.0              28675.0   \n",
       "4            False         2694698.0              12190.0   \n",
       "\n",
       "   murder_manslaughter  rape_legacy  rape_revised  robbery  agg_assault  \\\n",
       "0                  NaN          NaN           NaN      NaN          NaN   \n",
       "1                379.0       1369.0           NaN   5584.0      12250.0   \n",
       "2                 39.0        501.0           NaN    514.0       2681.0   \n",
       "3                400.0       1518.0           NaN   8868.0      17889.0   \n",
       "4                148.0        892.0           NaN   2181.0       8969.0   \n",
       "\n",
       "   property_crime_total  burglary   larceny  vehicle_theft  \n",
       "0                   NaN       NaN       NaN            NaN  \n",
       "1              173253.0   40642.0  119992.0        12619.0  \n",
       "2               23160.0    3847.0   16695.0         2618.0  \n",
       "3              293874.0   54821.0  186850.0        52203.0  \n",
       "4               99106.0   22196.0   69590.0         7320.0  "
      ]
     },
     "execution_count": 2,
     "metadata": {},
     "output_type": "execute_result"
    }
   ],
   "source": [
    "data = pd.read_csv(r'C:\\Users\\catem\\data-science-projects\\capstones\\experimental_design\\crime_and_incarceration_by_state.csv')\n",
    "\n",
    "\n",
    "# Convert column headers to lowercase for ease of coding\n",
    "data.columns = data.columns.str.lower()\n",
    "\n",
    "\n",
    "# Get basic overview of the data\n",
    "print(data.shape)\n",
    "\n",
    "data.info()\n",
    "data.head()\n"
   ]
  },
  {
   "cell_type": "markdown",
   "metadata": {},
   "source": [
    "## 4. Methods:\n",
    "**Explain the steps needed to test the hypotheses. This includes any data wrangling, tests, and visualizations that you will need to definitively reject or fail to reject your null hypotheses.**"
   ]
  },
  {
   "cell_type": "markdown",
   "metadata": {},
   "source": [
    "**Data wrangling:**\n",
    "\n",
    "Removing entries for states who include jails in their prisoner count. Also removing entries for federal prisoners, as that data will not be used while comparing states."
   ]
  },
  {
   "cell_type": "code",
   "execution_count": 3,
   "metadata": {
    "scrolled": true
   },
   "outputs": [],
   "source": [
    "# print(data.loc[data.includes_jails, 'includes_jails'].count())\n",
    "data = data.loc[data.includes_jails == False]\n",
    "data = data.loc[data.jurisdiction != 'FEDERAL']"
   ]
  },
  {
   "cell_type": "markdown",
   "metadata": {},
   "source": [
    "Adding columns for percent of the state population incarcerated total crime and crime per capita per state year."
   ]
  },
  {
   "cell_type": "code",
   "execution_count": 4,
   "metadata": {},
   "outputs": [
    {
     "data": {
      "text/html": [
       "<div>\n",
       "<style scoped>\n",
       "    .dataframe tbody tr th:only-of-type {\n",
       "        vertical-align: middle;\n",
       "    }\n",
       "\n",
       "    .dataframe tbody tr th {\n",
       "        vertical-align: top;\n",
       "    }\n",
       "\n",
       "    .dataframe thead th {\n",
       "        text-align: right;\n",
       "    }\n",
       "</style>\n",
       "<table border=\"1\" class=\"dataframe\">\n",
       "  <thead>\n",
       "    <tr style=\"text-align: right;\">\n",
       "      <th></th>\n",
       "      <th>jurisdiction</th>\n",
       "      <th>includes_jails</th>\n",
       "      <th>year</th>\n",
       "      <th>prisoner_count</th>\n",
       "      <th>crime_reporting_change</th>\n",
       "      <th>crimes_estimated</th>\n",
       "      <th>state_population</th>\n",
       "      <th>violent_crime_total</th>\n",
       "      <th>murder_manslaughter</th>\n",
       "      <th>rape_legacy</th>\n",
       "      <th>rape_revised</th>\n",
       "      <th>robbery</th>\n",
       "      <th>agg_assault</th>\n",
       "      <th>property_crime_total</th>\n",
       "      <th>burglary</th>\n",
       "      <th>larceny</th>\n",
       "      <th>vehicle_theft</th>\n",
       "      <th>perc_incar</th>\n",
       "      <th>total_crime</th>\n",
       "      <th>cri_per_cap</th>\n",
       "    </tr>\n",
       "  </thead>\n",
       "  <tbody>\n",
       "    <tr>\n",
       "      <th>1</th>\n",
       "      <td>ALABAMA</td>\n",
       "      <td>False</td>\n",
       "      <td>2001</td>\n",
       "      <td>24741</td>\n",
       "      <td>False</td>\n",
       "      <td>False</td>\n",
       "      <td>4468912.0</td>\n",
       "      <td>19582.0</td>\n",
       "      <td>379.0</td>\n",
       "      <td>1369.0</td>\n",
       "      <td>NaN</td>\n",
       "      <td>5584.0</td>\n",
       "      <td>12250.0</td>\n",
       "      <td>173253.0</td>\n",
       "      <td>40642.0</td>\n",
       "      <td>119992.0</td>\n",
       "      <td>12619.0</td>\n",
       "      <td>0.553625</td>\n",
       "      <td>192835.0</td>\n",
       "      <td>0.043150</td>\n",
       "    </tr>\n",
       "    <tr>\n",
       "      <th>3</th>\n",
       "      <td>ARIZONA</td>\n",
       "      <td>False</td>\n",
       "      <td>2001</td>\n",
       "      <td>27710</td>\n",
       "      <td>False</td>\n",
       "      <td>False</td>\n",
       "      <td>5306966.0</td>\n",
       "      <td>28675.0</td>\n",
       "      <td>400.0</td>\n",
       "      <td>1518.0</td>\n",
       "      <td>NaN</td>\n",
       "      <td>8868.0</td>\n",
       "      <td>17889.0</td>\n",
       "      <td>293874.0</td>\n",
       "      <td>54821.0</td>\n",
       "      <td>186850.0</td>\n",
       "      <td>52203.0</td>\n",
       "      <td>0.522144</td>\n",
       "      <td>322549.0</td>\n",
       "      <td>0.060778</td>\n",
       "    </tr>\n",
       "    <tr>\n",
       "      <th>4</th>\n",
       "      <td>ARKANSAS</td>\n",
       "      <td>False</td>\n",
       "      <td>2001</td>\n",
       "      <td>11489</td>\n",
       "      <td>False</td>\n",
       "      <td>False</td>\n",
       "      <td>2694698.0</td>\n",
       "      <td>12190.0</td>\n",
       "      <td>148.0</td>\n",
       "      <td>892.0</td>\n",
       "      <td>NaN</td>\n",
       "      <td>2181.0</td>\n",
       "      <td>8969.0</td>\n",
       "      <td>99106.0</td>\n",
       "      <td>22196.0</td>\n",
       "      <td>69590.0</td>\n",
       "      <td>7320.0</td>\n",
       "      <td>0.426356</td>\n",
       "      <td>111296.0</td>\n",
       "      <td>0.041302</td>\n",
       "    </tr>\n",
       "    <tr>\n",
       "      <th>5</th>\n",
       "      <td>CALIFORNIA</td>\n",
       "      <td>False</td>\n",
       "      <td>2001</td>\n",
       "      <td>157142</td>\n",
       "      <td>False</td>\n",
       "      <td>False</td>\n",
       "      <td>34600463.0</td>\n",
       "      <td>212867.0</td>\n",
       "      <td>2206.0</td>\n",
       "      <td>9960.0</td>\n",
       "      <td>NaN</td>\n",
       "      <td>64614.0</td>\n",
       "      <td>136087.0</td>\n",
       "      <td>1134189.0</td>\n",
       "      <td>232273.0</td>\n",
       "      <td>697739.0</td>\n",
       "      <td>204177.0</td>\n",
       "      <td>0.454162</td>\n",
       "      <td>1347056.0</td>\n",
       "      <td>0.038932</td>\n",
       "    </tr>\n",
       "    <tr>\n",
       "      <th>6</th>\n",
       "      <td>COLORADO</td>\n",
       "      <td>False</td>\n",
       "      <td>2001</td>\n",
       "      <td>17278</td>\n",
       "      <td>False</td>\n",
       "      <td>False</td>\n",
       "      <td>4430989.0</td>\n",
       "      <td>15492.0</td>\n",
       "      <td>158.0</td>\n",
       "      <td>1930.0</td>\n",
       "      <td>NaN</td>\n",
       "      <td>3555.0</td>\n",
       "      <td>9849.0</td>\n",
       "      <td>170887.0</td>\n",
       "      <td>28533.0</td>\n",
       "      <td>121360.0</td>\n",
       "      <td>20994.0</td>\n",
       "      <td>0.389936</td>\n",
       "      <td>186379.0</td>\n",
       "      <td>0.042063</td>\n",
       "    </tr>\n",
       "  </tbody>\n",
       "</table>\n",
       "</div>"
      ],
      "text/plain": [
       "  jurisdiction  includes_jails  year  prisoner_count crime_reporting_change  \\\n",
       "1      ALABAMA           False  2001           24741                  False   \n",
       "3      ARIZONA           False  2001           27710                  False   \n",
       "4     ARKANSAS           False  2001           11489                  False   \n",
       "5   CALIFORNIA           False  2001          157142                  False   \n",
       "6     COLORADO           False  2001           17278                  False   \n",
       "\n",
       "  crimes_estimated  state_population  violent_crime_total  \\\n",
       "1            False         4468912.0              19582.0   \n",
       "3            False         5306966.0              28675.0   \n",
       "4            False         2694698.0              12190.0   \n",
       "5            False        34600463.0             212867.0   \n",
       "6            False         4430989.0              15492.0   \n",
       "\n",
       "   murder_manslaughter  rape_legacy  rape_revised  robbery  agg_assault  \\\n",
       "1                379.0       1369.0           NaN   5584.0      12250.0   \n",
       "3                400.0       1518.0           NaN   8868.0      17889.0   \n",
       "4                148.0        892.0           NaN   2181.0       8969.0   \n",
       "5               2206.0       9960.0           NaN  64614.0     136087.0   \n",
       "6                158.0       1930.0           NaN   3555.0       9849.0   \n",
       "\n",
       "   property_crime_total  burglary   larceny  vehicle_theft  perc_incar  \\\n",
       "1              173253.0   40642.0  119992.0        12619.0    0.553625   \n",
       "3              293874.0   54821.0  186850.0        52203.0    0.522144   \n",
       "4               99106.0   22196.0   69590.0         7320.0    0.426356   \n",
       "5             1134189.0  232273.0  697739.0       204177.0    0.454162   \n",
       "6              170887.0   28533.0  121360.0        20994.0    0.389936   \n",
       "\n",
       "   total_crime  cri_per_cap  \n",
       "1     192835.0     0.043150  \n",
       "3     322549.0     0.060778  \n",
       "4     111296.0     0.041302  \n",
       "5    1347056.0     0.038932  \n",
       "6     186379.0     0.042063  "
      ]
     },
     "execution_count": 4,
     "metadata": {},
     "output_type": "execute_result"
    }
   ],
   "source": [
    "data['perc_incar'] = (data['prisoner_count'] / data['state_population']) * 100\n",
    "data['total_crime'] = data['violent_crime_total'] + data['property_crime_total']\n",
    "data['cri_per_cap'] = data['total_crime'] / data['state_population']\n",
    "data.head()"
   ]
  },
  {
   "cell_type": "markdown",
   "metadata": {},
   "source": [
    "Adding columns for violent crime and property crime rates for later analysis"
   ]
  },
  {
   "cell_type": "code",
   "execution_count": 5,
   "metadata": {},
   "outputs": [],
   "source": [
    "data['vc_cap'] = data['violent_crime_total'] / data['state_population']\n",
    "data['pc_cap'] = data['property_crime_total'] / data['state_population']"
   ]
  },
  {
   "cell_type": "markdown",
   "metadata": {},
   "source": [
    "## 5.\tResults:\n",
    "**Now, we can walk through the results of the methods. State here the results of your tests and whether these results mean that you reject or fail to reject the null. Also, include compelling tables or graphs to illustrate your findings.**"
   ]
  },
  {
   "cell_type": "code",
   "execution_count": 6,
   "metadata": {},
   "outputs": [],
   "source": [
    "# create a dataframe for each of the years we'll be looking at\n",
    "first_year = data.loc[data.year == 2001].reset_index()\n",
    "last_year = data.loc[data.year == 2016].reset_index()\n",
    "\n",
    "# set up new dataframe for differences\n",
    "diffs = pd.DataFrame(columns=['diff_incar'])\n",
    "# create column with differences for percent incarcerated\n",
    "diffs['diff_incar'] = last_year['perc_incar'] - first_year['perc_incar']"
   ]
  },
  {
   "cell_type": "markdown",
   "metadata": {},
   "source": [
    "Sort records into groups based on which had increased incarceration rates and which had decreased rates between 2001 and 2016."
   ]
  },
  {
   "cell_type": "code",
   "execution_count": 7,
   "metadata": {},
   "outputs": [],
   "source": [
    "# set up a list to hold results\n",
    "groups = []\n",
    "\n",
    "# iterate through diff_incar\n",
    "for i in diffs['diff_incar']:\n",
    "    \n",
    "    # append all significant positive changes to group as As\n",
    "    if i > .01:\n",
    "        group = 'A'\n",
    "        groups.append(group)\n",
    "    \n",
    "    # append all sig neg changes as Bs\n",
    "    elif i < -.01:\n",
    "        group = 'B'\n",
    "        groups.append(group)\n",
    "    \n",
    "    # append all insignificant changes as Cs\n",
    "    else:\n",
    "        group ='C'\n",
    "        groups.append(group)\n",
    "\n",
    "# add column for group designations for each record\n",
    "diffs['group'] = groups\n",
    "\n",
    "# diffs.head()"
   ]
  },
  {
   "cell_type": "markdown",
   "metadata": {},
   "source": [
    "The way the data is broken up now, we only have 22 results in Group A and 18 results in Group B. This means we are under the minimum threshold for a t-test. "
   ]
  },
  {
   "cell_type": "code",
   "execution_count": 8,
   "metadata": {
    "scrolled": true
   },
   "outputs": [
    {
     "name": "stdout",
     "output_type": "stream",
     "text": [
      "22\n",
      "18\n"
     ]
    }
   ],
   "source": [
    "print(diffs.loc[diffs.group == 'A', 'group'].count())\n",
    "print(diffs.loc[diffs.group == 'B', 'group'].count())"
   ]
  },
  {
   "cell_type": "markdown",
   "metadata": {},
   "source": [
    "Instead of continuing with this line of questions, I'll calculate the yearly differences in crime and incarceration rates for each state. This will give me a much larger sample size, and it will more accurately reflect fluctuations over the years between 2001 and 2016."
   ]
  },
  {
   "cell_type": "markdown",
   "metadata": {},
   "source": [
    "Creating a dataframe to hold each year's data."
   ]
  },
  {
   "cell_type": "code",
   "execution_count": 9,
   "metadata": {},
   "outputs": [],
   "source": [
    "yr_01 = data.loc[data.year == 2001].reset_index()\n",
    "yr_02 = data.loc[data.year == 2002].reset_index()\n",
    "yr_03 = data.loc[data.year == 2003].reset_index()\n",
    "yr_04 = data.loc[data.year == 2004].reset_index()\n",
    "yr_05 = data.loc[data.year == 2005].reset_index()\n",
    "yr_06 = data.loc[data.year == 2006].reset_index()\n",
    "yr_07 = data.loc[data.year == 2007].reset_index()\n",
    "yr_08 = data.loc[data.year == 2008].reset_index()\n",
    "yr_09 = data.loc[data.year == 2009].reset_index()\n",
    "yr_10 = data.loc[data.year == 2010].reset_index()\n",
    "yr_11 = data.loc[data.year == 2011].reset_index()\n",
    "yr_12 = data.loc[data.year == 2012].reset_index()\n",
    "yr_13 = data.loc[data.year == 2013].reset_index()\n",
    "yr_14 = data.loc[data.year == 2014].reset_index()\n",
    "yr_15 = data.loc[data.year == 2015].reset_index()\n",
    "yr_16 = data.loc[data.year == 2016].reset_index()\n"
   ]
  },
  {
   "cell_type": "markdown",
   "metadata": {},
   "source": [
    "Creating a function to perform calculations on the same column of data over different years."
   ]
  },
  {
   "cell_type": "code",
   "execution_count": 10,
   "metadata": {},
   "outputs": [],
   "source": [
    "yr_list = [yr_01, yr_02, yr_03, yr_04, yr_05, yr_06, yr_07, yr_08, yr_09, yr_10, \n",
    "          yr_11, yr_12, yr_13, yr_14, yr_15, yr_16]\n",
    "\n",
    "def calc_diffs(years, new_column, old_column):\n",
    "    '''\n",
    "    Calculate the difference between the same column in different dfs and saves\n",
    "    as a column.\n",
    "    \n",
    "    Args: \n",
    "        years - list of the dfs to be iterated\n",
    "        new_column - name of column to store results\n",
    "        old_column - name of columns to be compared\n",
    "    '''\n",
    "    x = -1\n",
    "    \n",
    "    # for each of the dataframes in the list\n",
    "    for i in years:\n",
    "        \n",
    "        # skipping x = -1(years[-1]) for calculation\n",
    "        if x != -1:\n",
    "            # incar_vs_ly for that year = that year's perc incar - the year before's incar\n",
    "            i[new_column] = i[old_column] - years[x][old_column]\n",
    "            x += 1\n",
    "        \n",
    "        # years[-1] is the first year, so there is nothing to subtract from it \n",
    "        else:\n",
    "            i[new_column] = 0\n",
    "            x += 1\n",
    "\n",
    "# calculate yearly diffs for incarceration and crime rates\n",
    "calc_diffs(yr_list, 'incar_vs_ly', 'perc_incar')\n",
    "calc_diffs(yr_list, 'cr_vs_ly', 'cri_per_cap')\n",
    "\n",
    "# calculate yearly diffs for violent and property crime rates, for later analysis\n",
    "calc_diffs(yr_list, 'viocr_vs_ly', 'vc_cap')\n",
    "calc_diffs(yr_list, 'propcr_vs_ly', 'pc_cap')\n",
    "\n",
    "# concatenate yearly dfs into master df\n",
    "all_yrs = pd.concat(yr_list)"
   ]
  },
  {
   "cell_type": "markdown",
   "metadata": {},
   "source": [
    "Dropping rows with null values for the fields we are measuring. There were two records dropped."
   ]
  },
  {
   "cell_type": "code",
   "execution_count": 11,
   "metadata": {},
   "outputs": [],
   "source": [
    "all_yrs.dropna(subset=['incar_vs_ly'], inplace=True)\n",
    "#print(all_yrs.isnull().sum())"
   ]
  },
  {
   "cell_type": "markdown",
   "metadata": {},
   "source": [
    "Breaking the data down into two groups based on records that had increased vs. decreased incarceration/capita each year. Excluding results for changes smaller than .005 to account for small annual fluctuations that are likely not attributed to policy"
   ]
  },
  {
   "cell_type": "code",
   "execution_count": 12,
   "metadata": {},
   "outputs": [],
   "source": [
    "# set up a list to hold results\n",
    "groups = []\n",
    "\n",
    "# iterate through incar_vs_ly\n",
    "for i in all_yrs['incar_vs_ly']:\n",
    "    \n",
    "    # append all significant positive changes to group as As\n",
    "    if i > .005:\n",
    "        group = 'A'\n",
    "        groups.append(group)\n",
    "    \n",
    "    # append all sig neg changes as Bs\n",
    "    elif i < -.005:\n",
    "        group = 'B'\n",
    "        groups.append(group)\n",
    "    \n",
    "    # append all insignificant changes as Cs\n",
    "    else:\n",
    "        group ='C'\n",
    "        groups.append(group)\n",
    "\n",
    "# add column for group designations for each record\n",
    "all_yrs['group'] = groups"
   ]
  },
  {
   "cell_type": "markdown",
   "metadata": {},
   "source": [
    "Unlike before, our samples are now large enough to conduct tests on. "
   ]
  },
  {
   "cell_type": "code",
   "execution_count": 13,
   "metadata": {},
   "outputs": [
    {
     "name": "stdout",
     "output_type": "stream",
     "text": [
      "208\n",
      "217\n"
     ]
    }
   ],
   "source": [
    "print(all_yrs.loc[all_yrs.group == 'A', 'group'].count())\n",
    "print(all_yrs.loc[all_yrs.group == 'B', 'group'].count())"
   ]
  },
  {
   "cell_type": "markdown",
   "metadata": {},
   "source": [
    "Creating dataframes for groups A and B. Group C, states with little or no change in incarceration rates, will be excluded, as explained above."
   ]
  },
  {
   "cell_type": "code",
   "execution_count": 14,
   "metadata": {},
   "outputs": [],
   "source": [
    "incar_up = all_yrs.loc[all_yrs.group == 'A'].reset_index()\n",
    "incar_down = all_yrs.loc[all_yrs.group == 'B'].reset_index()"
   ]
  },
  {
   "cell_type": "markdown",
   "metadata": {},
   "source": [
    "**Testing for normality: (And other assumptions for t-test)**\n",
    " Following normality testing, an appropriate statistical test will be run to determine whether or not there is a significant difference in the population means of the two groups. If, at this point, the null hypothesis can be rejected, a confidence interval will be calculated to determine the substantive value of the findings. "
   ]
  },
  {
   "cell_type": "code",
   "execution_count": 15,
   "metadata": {},
   "outputs": [
    {
     "data": {
      "image/png": "[encoded data removed]",
      "text/plain": [
       "<Figure size 432x288 with 1 Axes>"
      ]
     },
     "metadata": {
      "needs_background": "light"
     },
     "output_type": "display_data"
    }
   ],
   "source": [
    "plt.hist(incar_up['cr_vs_ly'], alpha = .5, bins = 20)\n",
    "plt.hist(incar_down['cr_vs_ly'], alpha=.5, bins = 20)\n",
    "\n",
    "plt.legend(['incar up', 'incar down'], loc='upper right')\n",
    "plt.show()"
   ]
  },
  {
   "cell_type": "markdown",
   "metadata": {},
   "source": [
    "Visual inspection of the histogram suggests normal distribution. Looking at skew and kurtosis and conducting a Shapiro-Wilk test to check."
   ]
  },
  {
   "cell_type": "code",
   "execution_count": 16,
   "metadata": {},
   "outputs": [
    {
     "name": "stdout",
     "output_type": "stream",
     "text": [
      "DescribeResult(nobs=208, minmax=(-0.006040262610664433, 0.005089793393149689), mean=-0.0006276752227524176, variance=2.620765514087566e-06, skewness=0.14594721239733888, kurtosis=1.6886376908299274)\n",
      "DescribeResult(nobs=217, minmax=(-0.0068088211850503705, 0.0038883897332420564), mean=-0.0008271227993088372, variance=2.19429963169641e-06, skewness=-0.1453284859827845, kurtosis=1.0738661759189538)\n",
      "ShapiroResult(statistic=0.9733427166938782, pvalue=0.0005542985745705664)\n",
      "ShapiroResult(statistic=0.9897196292877197, pvalue=0.12456328421831131)\n"
     ]
    }
   ],
   "source": [
    "# Define a function to print information to determine data distribution\n",
    "def test_normal(col_name):\n",
    "    print(stats.describe(incar_up[col_name]))\n",
    "    print(stats.describe(incar_down[col_name]))\n",
    "\n",
    "    print(stats.shapiro(incar_up[col_name]))\n",
    "    print(stats.shapiro(incar_down[col_name]))\n",
    "    \n",
    "test_normal('cr_vs_ly')"
   ]
  },
  {
   "cell_type": "markdown",
   "metadata": {},
   "source": [
    "Based on these results, we cannot reject the null hypothesis for incar_up. We can, however, reject the null hypothesis that the incar_down data follows a normal distribution. \n",
    "\n",
    "Since parametric tests require both distributions to be normal, I'll use the Kruskal Wallis test to check for a significant difference in means between the groups. \n",
    "\n",
    "In order to find a significant difference, we need a H-statistic of more than 3.84 (the Chi-square critical value for 1 degree of freedom and &alpha; of .05)."
   ]
  },
  {
   "cell_type": "code",
   "execution_count": 17,
   "metadata": {
    "scrolled": true
   },
   "outputs": [
    {
     "data": {
      "text/plain": [
       "KruskalResult(statistic=1.3911315286256922, pvalue=0.23821410447448801)"
      ]
     },
     "execution_count": 17,
     "metadata": {},
     "output_type": "execute_result"
    }
   ],
   "source": [
    "stats.kruskal(incar_up['cr_vs_ly'], incar_down['cr_vs_ly'])"
   ]
  },
  {
   "cell_type": "markdown",
   "metadata": {},
   "source": [
    "Based on these results, we cannot reject the null hypothesis. A statistically significant difference was not found between the average crime rate in states with annual increases in incarceration vs states with annual decreases in incarceration."
   ]
  },
  {
   "cell_type": "markdown",
   "metadata": {},
   "source": [
    "### Comparing with violent crime and property crime"
   ]
  },
  {
   "cell_type": "code",
   "execution_count": 18,
   "metadata": {},
   "outputs": [
    {
     "data": {
      "image/png": "[encoded data removed]",
      "text/plain": [
       "<Figure size 432x288 with 1 Axes>"
      ]
     },
     "metadata": {
      "needs_background": "light"
     },
     "output_type": "display_data"
    }
   ],
   "source": [
    "plt.hist(incar_up['viocr_vs_ly'], alpha = .5, bins = 20)\n",
    "plt.hist(incar_down['viocr_vs_ly'], alpha = .5, bins = 20)\n",
    "\n",
    "plt.legend(['incar_up', 'incar_down'], loc='upper right')\n",
    "\n",
    "plt.show()"
   ]
  },
  {
   "cell_type": "code",
   "execution_count": 19,
   "metadata": {
    "scrolled": true
   },
   "outputs": [
    {
     "name": "stdout",
     "output_type": "stream",
     "text": [
      "DescribeResult(nobs=208, minmax=(-0.0007348343344060655, 0.0014134939072755594), mean=7.030698338616196e-06, variance=6.940041158265092e-08, skewness=1.373390931092426, kurtosis=5.977155370929006)\n",
      "DescribeResult(nobs=217, minmax=(-0.0008754972033579557, 0.0008586642969142136), mean=-6.03457339861676e-05, variance=6.971009991138278e-08, skewness=-0.00905891665941681, kurtosis=1.2129492046544756)\n",
      "ShapiroResult(statistic=0.9095055460929871, pvalue=6.041434574832749e-10)\n",
      "ShapiroResult(statistic=0.9795303344726562, pvalue=0.0030384226702153683)\n"
     ]
    }
   ],
   "source": [
    "test_normal('viocr_vs_ly')"
   ]
  },
  {
   "cell_type": "code",
   "execution_count": 20,
   "metadata": {},
   "outputs": [
    {
     "data": {
      "text/plain": [
       "KruskalResult(statistic=6.071266931614218, pvalue=0.013739837258258798)"
      ]
     },
     "execution_count": 20,
     "metadata": {},
     "output_type": "execute_result"
    }
   ],
   "source": [
    "stats.kruskal(incar_up['viocr_vs_ly'], incar_down['viocr_vs_ly'])"
   ]
  },
  {
   "cell_type": "code",
   "execution_count": 21,
   "metadata": {
    "scrolled": true
   },
   "outputs": [
    {
     "data": {
      "image/png": "[encoded data removed]",
      "text/plain": [
       "<Figure size 432x288 with 1 Axes>"
      ]
     },
     "metadata": {
      "needs_background": "light"
     },
     "output_type": "display_data"
    }
   ],
   "source": [
    "plt.hist(incar_up['propcr_vs_ly'], alpha = .5, bins = 20)\n",
    "plt.hist(incar_down['propcr_vs_ly'], alpha = .5, bins = 20)\n",
    "\n",
    "plt.legend(['incar_up', 'incar_down'], loc='upper right')\n",
    "\n",
    "plt.show()"
   ]
  },
  {
   "cell_type": "code",
   "execution_count": 23,
   "metadata": {
    "scrolled": true
   },
   "outputs": [
    {
     "name": "stdout",
     "output_type": "stream",
     "text": [
      "DescribeResult(nobs=208, minmax=(-0.006027360130949289, 0.004164897943563936), mean=-0.0006347059210910339, variance=2.2690780318605953e-06, skewness=0.051227732432875345, kurtosis=1.6762364631419393)\n",
      "DescribeResult(nobs=217, minmax=(-0.0060225897270877946, 0.003176949791984251), mean=-0.0007667770653226695, variance=1.7786514246450666e-06, skewness=-0.1169485735197065, kurtosis=0.9175901728050677)\n",
      "ShapiroResult(statistic=0.9734957218170166, pvalue=0.0005808107671327889)\n",
      "ShapiroResult(statistic=0.9905622601509094, pvalue=0.1698160618543625)\n"
     ]
    }
   ],
   "source": [
    "test_normal('propcr_vs_ly')"
   ]
  },
  {
   "cell_type": "code",
   "execution_count": 24,
   "metadata": {},
   "outputs": [
    {
     "data": {
      "text/plain": [
       "KruskalResult(statistic=0.7758867098370956, pvalue=0.3784020896668694)"
      ]
     },
     "execution_count": 24,
     "metadata": {},
     "output_type": "execute_result"
    }
   ],
   "source": [
    "stats.kruskal(incar_up['propcr_vs_ly'], incar_down['propcr_vs_ly'])"
   ]
  },
  {
   "cell_type": "markdown",
   "metadata": {},
   "source": [
    "## 6. Discussion & recommendations:\n",
    "\n",
    "**What insights can interested parties get from this research? What would you recommend as further research?**\n",
    "\n",
    "These findings will help policy makers and elected officials make informed decisions when allocating money for corrections and when handling issues of criminal justice reform. Political hopefulls can use these findings to inform their campaign's approach to crime."
   ]
  },
  {
   "cell_type": "markdown",
   "metadata": {},
   "source": [
    "**Limitations of the study:** \n",
    "\n",
    "Bias in assignment to conditions: Since it is impossible to randomly select which states would belong to the test and control group, there are many variables we cannot control for. We cannot really assume ceteris paribus in this case. For these same reasons, it is not possible to conduct an A/A test on this group."
   ]
  }
 ],
 "metadata": {
  "kernelspec": {
   "display_name": "Python 3",
   "language": "python",
   "name": "python3"
  },
  "language_info": {
   "codemirror_mode": {
    "name": "ipython",
    "version": 3
   },
   "file_extension": ".py",
   "mimetype": "text/x-python",
   "name": "python",
   "nbconvert_exporter": "python",
   "pygments_lexer": "ipython3",
   "version": "3.8.3"
  }
 },
 "nbformat": 4,
 "nbformat_minor": 4
}
