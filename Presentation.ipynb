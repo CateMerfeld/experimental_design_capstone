version https://git-lfs.github.com/spec/v1
oid sha256:e6ff94ba3fb183fa3a9f552c1f5b7b72834f8f4a0d0f46e154ea263e38dc718c
size 6201
